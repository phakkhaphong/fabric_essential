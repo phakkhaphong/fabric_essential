{
 "cells": [
  {
   "cell_type": "markdown",
   "id": "829fb007-84f1-47ac-a3c5-fe35b67dc0d2",
   "metadata": {
    "nteract": {
     "transient": {
      "deleting": false
     }
    }
   },
   "source": [
    "## อ่านไฟล์ DimReseller.csv เข้า dataframe\n",
    "\n",
    "### แสดง 5 แถวข้อมูลแรกใน dataframe"
   ]
  },
  {
   "cell_type": "code",
   "execution_count": 18,
   "id": "030ce62b-c9c8-4ca5-985e-815d9eaf812e",
   "metadata": {
    "collapsed": false,
    "jupyter": {
     "outputs_hidden": false,
     "source_hidden": false
    },
    "nteract": {
     "transient": {
      "deleting": false
     }
    }
   },
   "outputs": [
    {
     "data": {
      "application/vnd.livy.statement-meta+json": {
       "execution_finish_time": "2024-01-30T05:39:09.2100492Z",
       "execution_start_time": "2024-01-30T05:39:08.1309388Z",
       "livy_statement_state": "available",
       "parent_msg_id": "2c2a8e42-fcef-4a6d-9581-fe0b5d5403a4",
       "queued_time": "2024-01-30T05:39:06.6978843Z",
       "session_id": "0050a1b7-1a65-4ae9-ace5-9e601e01c049",
       "session_start_time": null,
       "spark_pool": null,
       "state": "finished",
       "statement_id": 20
      },
      "text/plain": [
       "StatementMeta(, 0050a1b7-1a65-4ae9-ace5-9e601e01c049, 20, Finished, Available)"
      ]
     },
     "metadata": {},
     "output_type": "display_data"
    },
    {
     "data": {
      "application/vnd.synapse.widget-view+json": {
       "widget_id": "eedfce79-1fb9-4139-ac3d-182cb36ee1e5",
       "widget_type": "Synapse.DataFrame"
      },
      "text/plain": [
       "SynapseWidget(Synapse.DataFrame, eedfce79-1fb9-4139-ac3d-182cb36ee1e5)"
      ]
     },
     "metadata": {},
     "output_type": "display_data"
    }
   ],
   "source": [
    "df = spark.read.format(\"csv\").option(\"header\",\"true\").load(\"Files/Source/DimReseller.csv\")\n",
    "# df now is a Spark DataFrame containing CSV data from \"Files/Source/DimReseller.csv\".\n",
    "\n",
    "display(df.limit(5))"
   ]
  },
  {
   "cell_type": "markdown",
   "id": "38efd335",
   "metadata": {},
   "source": [
    "#XXXX"
   ]
  },
  {
   "cell_type": "markdown",
   "id": "b9238c96-2197-40d2-b4a7-bbdaf05dd119",
   "metadata": {
    "nteract": {
     "transient": {
      "deleting": false
     }
    }
   },
   "source": [
    "## สร้าง dataframe ใหม่ชื่อ reseller_df จาก dataframe เดิม\n",
    "\n",
    "### โดยลบคอลัมน์ที่ไม่ใช้ออก"
   ]
  },
  {
   "cell_type": "code",
   "execution_count": 19,
   "id": "44356083-6600-47ec-b0db-dff7d619eae6",
   "metadata": {
    "collapsed": false,
    "jupyter": {
     "outputs_hidden": false,
     "source_hidden": false
    },
    "nteract": {
     "transient": {
      "deleting": false
     }
    }
   },
   "outputs": [
    {
     "data": {
      "application/vnd.livy.statement-meta+json": {
       "execution_finish_time": "2024-01-30T05:39:10.0446608Z",
       "execution_start_time": "2024-01-30T05:39:09.6623905Z",
       "livy_statement_state": "available",
       "parent_msg_id": "fb3ff281-4f9d-4c0a-b234-9974ee4154ce",
       "queued_time": "2024-01-30T05:39:06.7617043Z",
       "session_id": "0050a1b7-1a65-4ae9-ace5-9e601e01c049",
       "session_start_time": null,
       "spark_pool": null,
       "state": "finished",
       "statement_id": 21
      },
      "text/plain": [
       "StatementMeta(, 0050a1b7-1a65-4ae9-ace5-9e601e01c049, 21, Finished, Available)"
      ]
     },
     "metadata": {},
     "output_type": "display_data"
    },
    {
     "data": {
      "application/vnd.synapse.widget-view+json": {
       "widget_id": "8376db03-179c-4c98-a5d4-b7ef3a0ecb1f",
       "widget_type": "Synapse.DataFrame"
      },
      "text/plain": [
       "SynapseWidget(Synapse.DataFrame, 8376db03-179c-4c98-a5d4-b7ef3a0ecb1f)"
      ]
     },
     "metadata": {},
     "output_type": "display_data"
    }
   ],
   "source": [
    "cols = (\"ResellerAlternateKey\",\"Phone\",\"NumberEmployees\",\"AddressLine1\",\"AddressLine2\",\"MinPaymentType\",\"MinPaymentAmount\",\"AnnualSales\",\"AnnualRevenue\",\n",
    "        \"OrderMonth\",\"FirstOrderYear\",\"LastOrderYear\",\"YearOpened\")\n",
    "\n",
    "reseller_df = df.drop(*cols)\n",
    "\n",
    "display(reseller_df.limit(5))"
   ]
  },
  {
   "cell_type": "markdown",
   "id": "4a7428a6-6dff-4d60-a51a-057d766d180e",
   "metadata": {
    "nteract": {
     "transient": {
      "deleting": false
     }
    }
   },
   "source": [
    "## อ่านไฟล์ DimGeography.csv เข้า dataframe\n",
    "\n",
    "### แสดง 5 แถวข้อมูลแรกใน dataframe"
   ]
  },
  {
   "cell_type": "code",
   "execution_count": 20,
   "id": "3c11e343-57d4-4aa2-9512-a49d9b9d1c62",
   "metadata": {
    "collapsed": false,
    "jupyter": {
     "outputs_hidden": false,
     "source_hidden": false
    },
    "nteract": {
     "transient": {
      "deleting": false
     }
    }
   },
   "outputs": [
    {
     "data": {
      "application/vnd.livy.statement-meta+json": {
       "execution_finish_time": "2024-01-30T05:39:11.6689844Z",
       "execution_start_time": "2024-01-30T05:39:10.5798013Z",
       "livy_statement_state": "available",
       "parent_msg_id": "e8e583ab-381b-47ab-925d-37d911bb5032",
       "queued_time": "2024-01-30T05:39:06.8229356Z",
       "session_id": "0050a1b7-1a65-4ae9-ace5-9e601e01c049",
       "session_start_time": null,
       "spark_pool": null,
       "state": "finished",
       "statement_id": 22
      },
      "text/plain": [
       "StatementMeta(, 0050a1b7-1a65-4ae9-ace5-9e601e01c049, 22, Finished, Available)"
      ]
     },
     "metadata": {},
     "output_type": "display_data"
    },
    {
     "data": {
      "application/vnd.synapse.widget-view+json": {
       "widget_id": "7ed20608-c123-4d4d-b319-deca163e5993",
       "widget_type": "Synapse.DataFrame"
      },
      "text/plain": [
       "SynapseWidget(Synapse.DataFrame, 7ed20608-c123-4d4d-b319-deca163e5993)"
      ]
     },
     "metadata": {},
     "output_type": "display_data"
    }
   ],
   "source": [
    "df = spark.read.format(\"csv\").option(\"header\",\"true\").load(\"Files/Source/DimGeopraphy.csv\")\n",
    "# df now is a Spark DataFrame containing CSV data from \"Files/Source/DimGeopraphy.csv\".\n",
    "\n",
    "display(df.limit(5))"
   ]
  },
  {
   "cell_type": "markdown",
   "id": "b3b0d027-2325-442b-b5cd-2d61b727db94",
   "metadata": {
    "nteract": {
     "transient": {
      "deleting": false
     }
    }
   },
   "source": [
    "## สร้าง dataframe ใหม่ชื่อ geo_df จาก dataframe เดิม\n",
    "\n",
    "### โดยลบคอลัมน์ที่ไม่ใช้ออก"
   ]
  },
  {
   "cell_type": "code",
   "execution_count": 21,
   "id": "f44413da-ace8-4474-9985-1317b29b1e50",
   "metadata": {
    "collapsed": false,
    "jupyter": {
     "outputs_hidden": false,
     "source_hidden": false
    },
    "nteract": {
     "transient": {
      "deleting": false
     }
    }
   },
   "outputs": [
    {
     "data": {
      "application/vnd.livy.statement-meta+json": {
       "execution_finish_time": "2024-01-30T05:39:12.5575231Z",
       "execution_start_time": "2024-01-30T05:39:12.1592769Z",
       "livy_statement_state": "available",
       "parent_msg_id": "8a352751-ffb6-4e3d-996c-92609849021f",
       "queued_time": "2024-01-30T05:39:06.8817277Z",
       "session_id": "0050a1b7-1a65-4ae9-ace5-9e601e01c049",
       "session_start_time": null,
       "spark_pool": null,
       "state": "finished",
       "statement_id": 23
      },
      "text/plain": [
       "StatementMeta(, 0050a1b7-1a65-4ae9-ace5-9e601e01c049, 23, Finished, Available)"
      ]
     },
     "metadata": {},
     "output_type": "display_data"
    },
    {
     "data": {
      "application/vnd.synapse.widget-view+json": {
       "widget_id": "c2ef93e0-5a60-4e15-950f-90a61e0fe23e",
       "widget_type": "Synapse.DataFrame"
      },
      "text/plain": [
       "SynapseWidget(Synapse.DataFrame, c2ef93e0-5a60-4e15-950f-90a61e0fe23e)"
      ]
     },
     "metadata": {},
     "output_type": "display_data"
    }
   ],
   "source": [
    "cols = (\"SpanishCountryRegionName\",\"FrenchCountryRegionName\",\"PostalCode\",\"SalesTerritoryKey\",\"IpAddressLocator\")\n",
    "\n",
    "geo_df = df.drop(*cols)\n",
    "\n",
    "display(geo_df.limit(5))"
   ]
  },
  {
   "cell_type": "markdown",
   "id": "e365a90f-11e1-465b-ad98-584ff06c495f",
   "metadata": {
    "nteract": {
     "transient": {
      "deleting": false
     }
    }
   },
   "source": [
    "## Join dataframe reseller_df กับ geo_df"
   ]
  },
  {
   "cell_type": "code",
   "execution_count": 22,
   "id": "bf8477e5-a856-4fd6-a68b-00fb5d97dc90",
   "metadata": {
    "collapsed": false,
    "jupyter": {
     "outputs_hidden": false,
     "source_hidden": false
    },
    "nteract": {
     "transient": {
      "deleting": false
     }
    }
   },
   "outputs": [
    {
     "data": {
      "application/vnd.livy.statement-meta+json": {
       "execution_finish_time": "2024-01-30T05:39:14.1673978Z",
       "execution_start_time": "2024-01-30T05:39:13.03618Z",
       "livy_statement_state": "available",
       "parent_msg_id": "3c4afe0d-9490-494b-81dd-3577c1c8018d",
       "queued_time": "2024-01-30T05:39:06.9535491Z",
       "session_id": "0050a1b7-1a65-4ae9-ace5-9e601e01c049",
       "session_start_time": null,
       "spark_pool": null,
       "state": "finished",
       "statement_id": 24
      },
      "text/plain": [
       "StatementMeta(, 0050a1b7-1a65-4ae9-ace5-9e601e01c049, 24, Finished, Available)"
      ]
     },
     "metadata": {},
     "output_type": "display_data"
    },
    {
     "data": {
      "application/vnd.synapse.widget-view+json": {
       "widget_id": "b7e9130b-ae01-4976-9cbc-91ff0a4a5362",
       "widget_type": "Synapse.DataFrame"
      },
      "text/plain": [
       "SynapseWidget(Synapse.DataFrame, b7e9130b-ae01-4976-9cbc-91ff0a4a5362)"
      ]
     },
     "metadata": {},
     "output_type": "display_data"
    }
   ],
   "source": [
    "join_df = reseller_df.join(geo_df,reseller_df.GeographyKey ==  geo_df.GeographyKey,\"inner\").drop(*[\"GeographyKey\"])\n",
    "\n",
    "\n",
    "display(join_df.limit(5))\n"
   ]
  },
  {
   "cell_type": "markdown",
   "id": "ac996cdf-33fc-486f-b17b-87267c26172c",
   "metadata": {
    "nteract": {
     "transient": {
      "deleting": false
     }
    }
   },
   "source": [
    "## เปลี่ยนชื่อคอลัมน์ และ เปลี่ยนชนิดข้อมูล"
   ]
  },
  {
   "cell_type": "code",
   "execution_count": 23,
   "id": "e8619592-faf6-4709-97c2-d456cbcad357",
   "metadata": {
    "collapsed": false,
    "jupyter": {
     "outputs_hidden": false,
     "source_hidden": false
    },
    "nteract": {
     "transient": {
      "deleting": false
     }
    }
   },
   "outputs": [
    {
     "data": {
      "application/vnd.livy.statement-meta+json": {
       "execution_finish_time": "2024-01-30T05:39:15.8758188Z",
       "execution_start_time": "2024-01-30T05:39:14.790457Z",
       "livy_statement_state": "available",
       "parent_msg_id": "ad831410-f0a8-41e9-a304-1d3179b6ce92",
       "queued_time": "2024-01-30T05:39:07.0166142Z",
       "session_id": "0050a1b7-1a65-4ae9-ace5-9e601e01c049",
       "session_start_time": null,
       "spark_pool": null,
       "state": "finished",
       "statement_id": 25
      },
      "text/plain": [
       "StatementMeta(, 0050a1b7-1a65-4ae9-ace5-9e601e01c049, 25, Finished, Available)"
      ]
     },
     "metadata": {},
     "output_type": "display_data"
    },
    {
     "data": {
      "application/vnd.synapse.widget-view+json": {
       "widget_id": "25b8838e-3a27-4e9e-a9cb-737563b1cfd7",
       "widget_type": "Synapse.DataFrame"
      },
      "text/plain": [
       "SynapseWidget(Synapse.DataFrame, 25b8838e-3a27-4e9e-a9cb-737563b1cfd7)"
      ]
     },
     "metadata": {},
     "output_type": "display_data"
    }
   ],
   "source": [
    "from pyspark.sql.functions import col,cast\n",
    "\n",
    "rename_df = join_df.withColumnRenamed(\"StateProvinceCode\",\"ProvinceCode\").withColumnRenamed(\"StateProvinceName\",\"Province\")\\\n",
    "    .withColumnRenamed(\"CountryRegionCode\",\"CountryCode\").withColumnRenamed(\"EnglishCountryRegionName\",\"Country\")\n",
    "\n",
    " \n",
    "output_df = rename_df.withColumn(\"ResellerKey\", col(\"ResellerKey\").cast(\"Integer\"))\n",
    "\n",
    "display(output_df.limit(5))"
   ]
  },
  {
   "cell_type": "markdown",
   "id": "0a36595c-b742-4c7a-a792-d18b0fdc7bae",
   "metadata": {
    "nteract": {
     "transient": {
      "deleting": false
     }
    }
   },
   "source": [
    "## เขียนลง Delta Table แบบ Managed Table"
   ]
  },
  {
   "cell_type": "code",
   "execution_count": 24,
   "id": "4d06f8f8-6059-42ba-81c0-d1b3f216f9a7",
   "metadata": {
    "jupyter": {
     "outputs_hidden": false,
     "source_hidden": false
    },
    "nteract": {
     "transient": {
      "deleting": false
     }
    }
   },
   "outputs": [
    {
     "data": {
      "application/vnd.livy.statement-meta+json": {
       "execution_finish_time": "2024-01-30T05:39:21.8647859Z",
       "execution_start_time": "2024-01-30T05:39:16.322322Z",
       "livy_statement_state": "available",
       "parent_msg_id": "67ed117d-c966-4e58-9890-9f15b3934db9",
       "queued_time": "2024-01-30T05:39:07.0734861Z",
       "session_id": "0050a1b7-1a65-4ae9-ace5-9e601e01c049",
       "session_start_time": null,
       "spark_pool": null,
       "state": "finished",
       "statement_id": 26
      },
      "text/plain": [
       "StatementMeta(, 0050a1b7-1a65-4ae9-ace5-9e601e01c049, 26, Finished, Available)"
      ]
     },
     "metadata": {},
     "output_type": "display_data"
    }
   ],
   "source": [
    "output_df.write.format(\"delta\").mode(\"overwrite\").option(\"overwriteSchema\", \"true\").saveAsTable(\"manage_DimReseller\")\n"
   ]
  },
  {
   "cell_type": "markdown",
   "id": "b2e7f447-3572-4219-a243-c18e4bb2e5ca",
   "metadata": {
    "nteract": {
     "transient": {
      "deleting": false
     }
    }
   },
   "source": [
    "## เขียนลง Delta Table แบบ External"
   ]
  },
  {
   "cell_type": "code",
   "execution_count": 25,
   "id": "d31d9cfb-e26c-4e49-924b-7fd5b6039c60",
   "metadata": {
    "jupyter": {
     "outputs_hidden": false,
     "source_hidden": false
    },
    "nteract": {
     "transient": {
      "deleting": false
     }
    }
   },
   "outputs": [
    {
     "data": {
      "application/vnd.livy.statement-meta+json": {
       "execution_finish_time": "2024-01-30T05:39:26.3822118Z",
       "execution_start_time": "2024-01-30T05:39:22.2884165Z",
       "livy_statement_state": "available",
       "parent_msg_id": "e5df170e-d949-4b5e-9b50-0f7b0aa0cc7a",
       "queued_time": "2024-01-30T05:39:07.1337793Z",
       "session_id": "0050a1b7-1a65-4ae9-ace5-9e601e01c049",
       "session_start_time": null,
       "spark_pool": null,
       "state": "finished",
       "statement_id": 27
      },
      "text/plain": [
       "StatementMeta(, 0050a1b7-1a65-4ae9-ace5-9e601e01c049, 27, Finished, Available)"
      ]
     },
     "metadata": {},
     "output_type": "display_data"
    }
   ],
   "source": [
    "output_df.write.format(\"delta\").saveAsTable(\"external_DimReseller\", path=\"Files/external/external_DimReseller\")"
   ]
  }
 ],
 "metadata": {
  "kernel_info": {
   "name": "synapse_pyspark"
  },
  "kernelspec": {
   "display_name": "Synapse PySpark",
   "language": "Python",
   "name": "synapse_pyspark"
  },
  "language_info": {
   "name": "python"
  },
  "microsoft": {
   "language": "python"
  },
  "notebook_environment": {},
  "nteract": {
   "version": "nteract-front-end@1.0.0"
  },
  "save_output": true,
  "spark_compute": {
   "compute_id": "/trident/default",
   "session_options": {
    "conf": {},
    "enableDebugMode": false
   }
  },
  "synapse_widget": {
   "state": {
    "25b8838e-3a27-4e9e-a9cb-737563b1cfd7": {
     "persist_state": {
      "view": {
       "chartOptions": {
        "aggregationType": "sum",
        "binsNumber": 10,
        "categoryFieldKeys": [
         "1"
        ],
        "chartType": "bar",
        "isStacked": false,
        "seriesFieldKeys": [
         "0"
        ],
        "wordFrequency": "-1"
       },
       "tableOptions": {},
       "type": "details"
      }
     },
     "sync_state": {
      "isSummary": false,
      "language": "scala",
      "table": {
       "rows": [
        {
         "0": "1",
         "1": "Value Added Reseller",
         "2": "A Bike Store",
         "3": "S",
         "4": "Road",
         "5": "International Bank",
         "6": "Seattle",
         "7": "WA",
         "8": "Washington",
         "9": "US",
         "10": "United States",
         "index": 1
        },
        {
         "0": "2",
         "1": "Specialty Bike Shop",
         "2": "Progressive Sports",
         "3": "A",
         "4": "Mountain",
         "5": "International Security",
         "6": "Renton",
         "7": "WA",
         "8": "Washington",
         "9": "US",
         "10": "United States",
         "index": 2
        },
        {
         "0": "3",
         "1": "Warehouse",
         "2": "Advanced Bike Components",
         "3": "Q",
         "4": "Road",
         "5": "Primary International",
         "6": "Irving",
         "7": "TX",
         "8": "Texas",
         "9": "US",
         "10": "United States",
         "index": 3
        },
        {
         "0": "4",
         "1": "Value Added Reseller",
         "2": "Modular Cycle Systems",
         "3": "S",
         "4": "Road",
         "5": "United Security",
         "6": "Austin",
         "7": "TX",
         "8": "Texas",
         "9": "US",
         "10": "United States",
         "index": 4
        },
        {
         "0": "5",
         "1": "Specialty Bike Shop",
         "2": "Metropolitan Sports Supply",
         "3": "A",
         "4": "Road",
         "5": "Primary Bank & Reserve",
         "6": "Fremont",
         "7": "CA",
         "8": "California",
         "9": "US",
         "10": "United States",
         "index": 5
        }
       ],
       "schema": [
        {
         "key": "0",
         "name": "ResellerKey",
         "type": "int"
        },
        {
         "key": "1",
         "name": "BusinessType",
         "type": "string"
        },
        {
         "key": "2",
         "name": "ResellerName",
         "type": "string"
        },
        {
         "key": "3",
         "name": "OrderFrequency",
         "type": "string"
        },
        {
         "key": "4",
         "name": "ProductLine",
         "type": "string"
        },
        {
         "key": "5",
         "name": "BankName",
         "type": "string"
        },
        {
         "key": "6",
         "name": "City",
         "type": "string"
        },
        {
         "key": "7",
         "name": "ProvinceCode",
         "type": "string"
        },
        {
         "key": "8",
         "name": "Province",
         "type": "string"
        },
        {
         "key": "9",
         "name": "CountryCode",
         "type": "string"
        },
        {
         "key": "10",
         "name": "Country",
         "type": "string"
        }
       ],
       "truncated": false
      }
     },
     "type": "Synapse.DataFrame"
    },
    "7ed20608-c123-4d4d-b319-deca163e5993": {
     "persist_state": {
      "view": {
       "chartOptions": {
        "aggregationType": "count",
        "binsNumber": 10,
        "categoryFieldKeys": [
         "0"
        ],
        "chartType": "bar",
        "isStacked": false,
        "seriesFieldKeys": [
         "0"
        ],
        "wordFrequency": "-1"
       },
       "tableOptions": {},
       "type": "details"
      }
     },
     "sync_state": {
      "isSummary": false,
      "language": "scala",
      "table": {
       "rows": [
        {
         "0": "1",
         "1": "Alexandria",
         "2": "NSW",
         "3": "New South Wales",
         "4": "AU",
         "5": "Australia",
         "6": "Australia",
         "7": "Australie",
         "8": "2015",
         "9": "9",
         "10": "198.51.100.2",
         "index": 1
        },
        {
         "0": "2",
         "1": "Coffs Harbour",
         "2": "NSW",
         "3": "New South Wales",
         "4": "AU",
         "5": "Australia",
         "6": "Australia",
         "7": "Australie",
         "8": "2450",
         "9": "9",
         "10": "198.51.100.3",
         "index": 2
        },
        {
         "0": "3",
         "1": "Darlinghurst",
         "2": "NSW",
         "3": "New South Wales",
         "4": "AU",
         "5": "Australia",
         "6": "Australia",
         "7": "Australie",
         "8": "2010",
         "9": "9",
         "10": "198.51.100.4",
         "index": 3
        },
        {
         "0": "4",
         "1": "Goulburn",
         "2": "NSW",
         "3": "New South Wales",
         "4": "AU",
         "5": "Australia",
         "6": "Australia",
         "7": "Australie",
         "8": "2580",
         "9": "9",
         "10": "198.51.100.5",
         "index": 4
        },
        {
         "0": "5",
         "1": "Lane Cove",
         "2": "NSW",
         "3": "New South Wales",
         "4": "AU",
         "5": "Australia",
         "6": "Australia",
         "7": "Australie",
         "8": "1597",
         "9": "9",
         "10": "198.51.100.6",
         "index": 5
        }
       ],
       "schema": [
        {
         "key": "0",
         "name": "GeographyKey",
         "type": "string"
        },
        {
         "key": "1",
         "name": "City",
         "type": "string"
        },
        {
         "key": "2",
         "name": "StateProvinceCode",
         "type": "string"
        },
        {
         "key": "3",
         "name": "StateProvinceName",
         "type": "string"
        },
        {
         "key": "4",
         "name": "CountryRegionCode",
         "type": "string"
        },
        {
         "key": "5",
         "name": "EnglishCountryRegionName",
         "type": "string"
        },
        {
         "key": "6",
         "name": "SpanishCountryRegionName",
         "type": "string"
        },
        {
         "key": "7",
         "name": "FrenchCountryRegionName",
         "type": "string"
        },
        {
         "key": "8",
         "name": "PostalCode",
         "type": "string"
        },
        {
         "key": "9",
         "name": "SalesTerritoryKey",
         "type": "string"
        },
        {
         "key": "10",
         "name": "IpAddressLocator",
         "type": "string"
        }
       ],
       "truncated": false
      }
     },
     "type": "Synapse.DataFrame"
    },
    "8376db03-179c-4c98-a5d4-b7ef3a0ecb1f": {
     "persist_state": {
      "view": {
       "chartOptions": {
        "aggregationType": "count",
        "binsNumber": 10,
        "categoryFieldKeys": [
         "0"
        ],
        "chartType": "bar",
        "isStacked": false,
        "seriesFieldKeys": [
         "0"
        ],
        "wordFrequency": "-1"
       },
       "tableOptions": {},
       "type": "details"
      }
     },
     "sync_state": {
      "isSummary": false,
      "language": "scala",
      "table": {
       "rows": [
        {
         "0": "1",
         "1": "637",
         "2": "Value Added Reseller",
         "3": "A Bike Store",
         "4": "S",
         "5": "Road",
         "6": "International Bank",
         "index": 1
        },
        {
         "0": "2",
         "1": "635",
         "2": "Specialty Bike Shop",
         "3": "Progressive Sports",
         "4": "A",
         "5": "Mountain",
         "6": "International Security",
         "index": 2
        },
        {
         "0": "3",
         "1": "584",
         "2": "Warehouse",
         "3": "Advanced Bike Components",
         "4": "Q",
         "5": "Road",
         "6": "Primary International",
         "index": 3
        },
        {
         "0": "4",
         "1": "572",
         "2": "Value Added Reseller",
         "3": "Modular Cycle Systems",
         "4": "S",
         "5": "Road",
         "6": "United Security",
         "index": 4
        },
        {
         "0": "5",
         "1": "322",
         "2": "Specialty Bike Shop",
         "3": "Metropolitan Sports Supply",
         "4": "A",
         "5": "Road",
         "6": "Primary Bank & Reserve",
         "index": 5
        }
       ],
       "schema": [
        {
         "key": "0",
         "name": "ResellerKey",
         "type": "string"
        },
        {
         "key": "1",
         "name": "GeographyKey",
         "type": "string"
        },
        {
         "key": "2",
         "name": "BusinessType",
         "type": "string"
        },
        {
         "key": "3",
         "name": "ResellerName",
         "type": "string"
        },
        {
         "key": "4",
         "name": "OrderFrequency",
         "type": "string"
        },
        {
         "key": "5",
         "name": "ProductLine",
         "type": "string"
        },
        {
         "key": "6",
         "name": "BankName",
         "type": "string"
        }
       ],
       "truncated": false
      }
     },
     "type": "Synapse.DataFrame"
    },
    "b7e9130b-ae01-4976-9cbc-91ff0a4a5362": {
     "persist_state": {
      "view": {
       "chartOptions": {
        "aggregationType": "count",
        "binsNumber": 10,
        "categoryFieldKeys": [
         "0"
        ],
        "chartType": "bar",
        "isStacked": false,
        "seriesFieldKeys": [
         "0"
        ],
        "wordFrequency": "-1"
       },
       "tableOptions": {},
       "type": "details"
      }
     },
     "sync_state": {
      "isSummary": false,
      "language": "scala",
      "table": {
       "rows": [
        {
         "0": "1",
         "1": "Value Added Reseller",
         "2": "A Bike Store",
         "3": "S",
         "4": "Road",
         "5": "International Bank",
         "6": "Seattle",
         "7": "WA",
         "8": "Washington",
         "9": "US",
         "10": "United States",
         "index": 1
        },
        {
         "0": "2",
         "1": "Specialty Bike Shop",
         "2": "Progressive Sports",
         "3": "A",
         "4": "Mountain",
         "5": "International Security",
         "6": "Renton",
         "7": "WA",
         "8": "Washington",
         "9": "US",
         "10": "United States",
         "index": 2
        },
        {
         "0": "3",
         "1": "Warehouse",
         "2": "Advanced Bike Components",
         "3": "Q",
         "4": "Road",
         "5": "Primary International",
         "6": "Irving",
         "7": "TX",
         "8": "Texas",
         "9": "US",
         "10": "United States",
         "index": 3
        },
        {
         "0": "4",
         "1": "Value Added Reseller",
         "2": "Modular Cycle Systems",
         "3": "S",
         "4": "Road",
         "5": "United Security",
         "6": "Austin",
         "7": "TX",
         "8": "Texas",
         "9": "US",
         "10": "United States",
         "index": 4
        },
        {
         "0": "5",
         "1": "Specialty Bike Shop",
         "2": "Metropolitan Sports Supply",
         "3": "A",
         "4": "Road",
         "5": "Primary Bank & Reserve",
         "6": "Fremont",
         "7": "CA",
         "8": "California",
         "9": "US",
         "10": "United States",
         "index": 5
        }
       ],
       "schema": [
        {
         "key": "0",
         "name": "ResellerKey",
         "type": "string"
        },
        {
         "key": "1",
         "name": "BusinessType",
         "type": "string"
        },
        {
         "key": "2",
         "name": "ResellerName",
         "type": "string"
        },
        {
         "key": "3",
         "name": "OrderFrequency",
         "type": "string"
        },
        {
         "key": "4",
         "name": "ProductLine",
         "type": "string"
        },
        {
         "key": "5",
         "name": "BankName",
         "type": "string"
        },
        {
         "key": "6",
         "name": "City",
         "type": "string"
        },
        {
         "key": "7",
         "name": "StateProvinceCode",
         "type": "string"
        },
        {
         "key": "8",
         "name": "StateProvinceName",
         "type": "string"
        },
        {
         "key": "9",
         "name": "CountryRegionCode",
         "type": "string"
        },
        {
         "key": "10",
         "name": "EnglishCountryRegionName",
         "type": "string"
        }
       ],
       "truncated": false
      }
     },
     "type": "Synapse.DataFrame"
    },
    "c2ef93e0-5a60-4e15-950f-90a61e0fe23e": {
     "persist_state": {
      "view": {
       "chartOptions": {
        "aggregationType": "count",
        "binsNumber": 10,
        "categoryFieldKeys": [
         "0"
        ],
        "chartType": "bar",
        "isStacked": false,
        "seriesFieldKeys": [
         "0"
        ],
        "wordFrequency": "-1"
       },
       "tableOptions": {},
       "type": "details"
      }
     },
     "sync_state": {
      "isSummary": false,
      "language": "scala",
      "table": {
       "rows": [
        {
         "0": "1",
         "1": "Alexandria",
         "2": "NSW",
         "3": "New South Wales",
         "4": "AU",
         "5": "Australia",
         "index": 1
        },
        {
         "0": "2",
         "1": "Coffs Harbour",
         "2": "NSW",
         "3": "New South Wales",
         "4": "AU",
         "5": "Australia",
         "index": 2
        },
        {
         "0": "3",
         "1": "Darlinghurst",
         "2": "NSW",
         "3": "New South Wales",
         "4": "AU",
         "5": "Australia",
         "index": 3
        },
        {
         "0": "4",
         "1": "Goulburn",
         "2": "NSW",
         "3": "New South Wales",
         "4": "AU",
         "5": "Australia",
         "index": 4
        },
        {
         "0": "5",
         "1": "Lane Cove",
         "2": "NSW",
         "3": "New South Wales",
         "4": "AU",
         "5": "Australia",
         "index": 5
        }
       ],
       "schema": [
        {
         "key": "0",
         "name": "GeographyKey",
         "type": "string"
        },
        {
         "key": "1",
         "name": "City",
         "type": "string"
        },
        {
         "key": "2",
         "name": "StateProvinceCode",
         "type": "string"
        },
        {
         "key": "3",
         "name": "StateProvinceName",
         "type": "string"
        },
        {
         "key": "4",
         "name": "CountryRegionCode",
         "type": "string"
        },
        {
         "key": "5",
         "name": "EnglishCountryRegionName",
         "type": "string"
        }
       ],
       "truncated": false
      }
     },
     "type": "Synapse.DataFrame"
    },
    "eedfce79-1fb9-4139-ac3d-182cb36ee1e5": {
     "persist_state": {
      "view": {
       "chartOptions": {
        "aggregationType": "count",
        "binsNumber": 10,
        "categoryFieldKeys": [
         "0"
        ],
        "chartType": "bar",
        "isStacked": false,
        "seriesFieldKeys": [
         "0"
        ],
        "wordFrequency": "-1"
       },
       "tableOptions": {},
       "type": "details"
      }
     },
     "sync_state": {
      "isSummary": false,
      "language": "scala",
      "table": {
       "rows": [
        {
         "0": "1",
         "1": "637",
         "2": "AW00000001",
         "3": "245-555-0173",
         "4": "Value Added Reseller",
         "5": "A Bike Store",
         "6": "2",
         "7": "S",
         "8": "5",
         "9": "2011",
         "10": "2011",
         "11": "Road",
         "12": "2251 Elliot Avenue",
         "13": "NULL",
         "14": "300000.00",
         "15": "International Bank",
         "16": "NULL",
         "17": "NULL",
         "18": "30000.00",
         "19": "1974",
         "index": 1
        },
        {
         "0": "2",
         "1": "635",
         "2": "AW00000002",
         "3": "170-555-0127",
         "4": "Specialty Bike Shop",
         "5": "Progressive Sports",
         "6": "10",
         "7": "A",
         "8": "5",
         "9": "2012",
         "10": "2013",
         "11": "Mountain",
         "12": "3207 S Grady Way",
         "13": "NULL",
         "14": "800000.00",
         "15": "International Security",
         "16": "1",
         "17": "NULL",
         "18": "80000.00",
         "19": "1976",
         "index": 2
        },
        {
         "0": "3",
         "1": "584",
         "2": "AW00000003",
         "3": "279-555-0130",
         "4": "Warehouse",
         "5": "Advanced Bike Components",
         "6": "40",
         "7": "Q",
         "8": "6",
         "9": "2011",
         "10": "2013",
         "11": "Road",
         "12": "12345 Sterling Avenue",
         "13": "NULL",
         "14": "1500000.00",
         "15": "Primary International",
         "16": "2",
         "17": "NULL",
         "18": "150000.00",
         "19": "1978",
         "index": 3
        },
        {
         "0": "4",
         "1": "572",
         "2": "AW00000004",
         "3": "710-555-0173",
         "4": "Value Added Reseller",
         "5": "Modular Cycle Systems",
         "6": "5",
         "7": "S",
         "8": "4",
         "9": "2011",
         "10": "2013",
         "11": "Road",
         "12": "800 Interchange Blvd.",
         "13": "Suite 2501",
         "14": "300000.00",
         "15": "United Security",
         "16": "3",
         "17": "600.00",
         "18": "30000.00",
         "19": "1980",
         "index": 4
        },
        {
         "0": "5",
         "1": "322",
         "2": "AW00000005",
         "3": "828-555-0186",
         "4": "Specialty Bike Shop",
         "5": "Metropolitan Sports Supply",
         "6": "13",
         "7": "A",
         "8": "6",
         "9": "2012",
         "10": "2013",
         "11": "Road",
         "12": "482505 Warm Springs Blvd.",
         "13": "NULL",
         "14": "800000.00",
         "15": "Primary Bank & Reserve",
         "16": "NULL",
         "17": "NULL",
         "18": "80000.00",
         "19": "1982",
         "index": 5
        }
       ],
       "schema": [
        {
         "key": "0",
         "name": "ResellerKey",
         "type": "string"
        },
        {
         "key": "1",
         "name": "GeographyKey",
         "type": "string"
        },
        {
         "key": "2",
         "name": "ResellerAlternateKey",
         "type": "string"
        },
        {
         "key": "3",
         "name": "Phone",
         "type": "string"
        },
        {
         "key": "4",
         "name": "BusinessType",
         "type": "string"
        },
        {
         "key": "5",
         "name": "ResellerName",
         "type": "string"
        },
        {
         "key": "6",
         "name": "NumberEmployees",
         "type": "string"
        },
        {
         "key": "7",
         "name": "OrderFrequency",
         "type": "string"
        },
        {
         "key": "8",
         "name": "OrderMonth",
         "type": "string"
        },
        {
         "key": "9",
         "name": "FirstOrderYear",
         "type": "string"
        },
        {
         "key": "10",
         "name": "LastOrderYear",
         "type": "string"
        },
        {
         "key": "11",
         "name": "ProductLine",
         "type": "string"
        },
        {
         "key": "12",
         "name": "AddressLine1",
         "type": "string"
        },
        {
         "key": "13",
         "name": "AddressLine2",
         "type": "string"
        },
        {
         "key": "14",
         "name": "AnnualSales",
         "type": "string"
        },
        {
         "key": "15",
         "name": "BankName",
         "type": "string"
        },
        {
         "key": "16",
         "name": "MinPaymentType",
         "type": "string"
        },
        {
         "key": "17",
         "name": "MinPaymentAmount",
         "type": "string"
        },
        {
         "key": "18",
         "name": "AnnualRevenue",
         "type": "string"
        },
        {
         "key": "19",
         "name": "YearOpened",
         "type": "string"
        }
       ],
       "truncated": false
      }
     },
     "type": "Synapse.DataFrame"
    }
   },
   "version": "0.1"
  },
  "trident": {
   "lakehouse": {
    "default_lakehouse": "871570b8-6928-4894-9efb-c98bdae7ed80",
    "default_lakehouse_name": "AdventureworksLH",
    "default_lakehouse_workspace_id": "4c688b6c-d897-4e12-9ecf-bd56afb2cf65",
    "known_lakehouses": [
     {
      "id": "871570b8-6928-4894-9efb-c98bdae7ed80"
     }
    ]
   }
  },
  "widgets": {}
 },
 "nbformat": 4,
 "nbformat_minor": 5
}
